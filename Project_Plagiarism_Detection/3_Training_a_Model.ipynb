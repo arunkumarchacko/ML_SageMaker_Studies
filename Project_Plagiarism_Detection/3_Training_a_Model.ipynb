{
 "cells": [
  {
   "cell_type": "markdown",
   "metadata": {},
   "source": [
    "# Plagiarism Detection Model\n",
    "\n",
    "Now that you've created training and test data, you are ready to define and train a model. Your goal in this notebook, will be to train a binary classification model that learns to label an answer file as either plagiarized or not, based on the features you provide the model.\n",
    "\n",
    "This task will be broken down into a few discrete steps:\n",
    "\n",
    "* Upload your data to S3.\n",
    "* Define a binary classification model and a training script.\n",
    "* Train your model and deploy it.\n",
    "* Evaluate your deployed classifier and answer some questions about your approach.\n",
    "\n",
    "To complete this notebook, you'll have to complete all given exercises and answer all the questions in this notebook.\n",
    "> All your tasks will be clearly labeled **EXERCISE** and questions as **QUESTION**.\n",
    "\n",
    "It will be up to you to explore different classification models and decide on a model that gives you the best performance for this dataset.\n",
    "\n",
    "---"
   ]
  },
  {
   "cell_type": "markdown",
   "metadata": {},
   "source": [
    "## Load Data to S3\n",
    "\n",
    "In the last notebook, you should have created two files: a `training.csv` and `test.csv` file with the features and class labels for the given corpus of plagiarized/non-plagiarized text data. \n",
    "\n",
    ">The below cells load in some AWS SageMaker libraries and creates a default bucket. After creating this bucket, you can upload your locally stored data to S3.\n",
    "\n",
    "Save your train and test `.csv` feature files, locally. To do this you can run the second notebook \"2_Plagiarism_Feature_Engineering\" in SageMaker or you can manually upload your files to this notebook using the upload icon in Jupyter Lab. Then you can upload local files to S3 by using `sagemaker_session.upload_data` and pointing directly to where the training data is saved."
   ]
  },
  {
   "cell_type": "code",
   "execution_count": 1,
   "metadata": {},
   "outputs": [],
   "source": [
    "import pandas as pd\n",
    "import boto3\n",
    "import sagemaker"
   ]
  },
  {
   "cell_type": "code",
   "execution_count": 2,
   "metadata": {},
   "outputs": [],
   "source": [
    "\"\"\"\n",
    "DON'T MODIFY ANYTHING IN THIS CELL THAT IS BELOW THIS LINE\n",
    "\"\"\"\n",
    "# session and role\n",
    "sagemaker_session = sagemaker.Session()\n",
    "role = sagemaker.get_execution_role()\n",
    "\n",
    "# create an S3 bucket\n",
    "bucket = sagemaker_session.default_bucket()\n",
    "colnames = ['label', 'c1', 'c2', 'lcs']"
   ]
  },
  {
   "cell_type": "markdown",
   "metadata": {},
   "source": [
    "## EXERCISE: Upload your training data to S3\n",
    "\n",
    "Specify the `data_dir` where you've saved your `train.csv` file. Decide on a descriptive `prefix` that defines where your data will be uploaded in the default S3 bucket. Finally, create a pointer to your training data by calling `sagemaker_session.upload_data` and passing in the required parameters. It may help to look at the [Session documentation](https://sagemaker.readthedocs.io/en/stable/session.html#sagemaker.session.Session.upload_data) or previous SageMaker code examples.\n",
    "\n",
    "You are expected to upload your entire directory. Later, the training script will only access the `train.csv` file."
   ]
  },
  {
   "cell_type": "code",
   "execution_count": 3,
   "metadata": {},
   "outputs": [
    {
     "name": "stdout",
     "output_type": "stream",
     "text": [
      "s3://sagemaker-us-west-2-491361370672/plagiarism/data/train.csv\n",
      "s3://sagemaker-us-west-2-491361370672/plagiarism/data/test.csv\n",
      "s3://sagemaker-us-west-2-491361370672/plagiarism/data/test_without_label.csv\n"
     ]
    }
   ],
   "source": [
    "# should be the name of directory you created to save your features data\n",
    "data_dir = 'plagiarism_data'\n",
    "localTrainPath = '{}/{}'.format(data_dir, 'train.csv')\n",
    "localTestPath = '{}/{}'.format(data_dir, 'test.csv')\n",
    "localTestWithoutLabelPath = '{}/{}'.format(data_dir, 'test_without_label.csv')\n",
    "\n",
    "# set prefix, a descriptive name for a directory  \n",
    "prefix = 'plagiarism/data'\n",
    "\n",
    "bucket = sagemaker_session.default_bucket()\n",
    "\n",
    "upload_path = 's3://{}/{}'.format(bucket, prefix)\n",
    "\n",
    "train_path  = sagemaker_session.upload_data(localTrainPath, bucket=bucket, key_prefix=prefix)\n",
    "test_path  = sagemaker_session.upload_data(localTestPath, bucket=bucket, key_prefix=prefix)\n",
    "\n",
    "testDf = pd.read_csv(localTestPath, header=None, names=colnames)\n",
    "\n",
    "testDf = testDf.drop(['label'], axis=1)\n",
    "testDf.to_csv(localTestWithoutLabelPath, index=False, header=False)\n",
    "\n",
    "testdata_without_label_path  = sagemaker_session.upload_data(localTestWithoutLabelPath, bucket=bucket, key_prefix=prefix)\n",
    "print(train_path)\n",
    "print(test_path)\n",
    "print(testdata_without_label_path)\n",
    "# upload all data to S3\n"
   ]
  },
  {
   "cell_type": "markdown",
   "metadata": {},
   "source": [
    "### Test cell\n",
    "\n",
    "Test that your data has been successfully uploaded. The below cell prints out the items in your S3 bucket and will throw an error if it is empty. You should see the contents of your `data_dir` and perhaps some checkpoints. If you see any other files listed, then you may have some old model files that you can delete via the S3 console (though, additional files shouldn't affect the performance of model developed in this notebook)."
   ]
  },
  {
   "cell_type": "code",
   "execution_count": 4,
   "metadata": {},
   "outputs": [
    {
     "name": "stdout",
     "output_type": "stream",
     "text": [
      "linear-learner-2020-08-13-13-32-44-555/output/model.tar.gz\n",
      "mlndplagiarism/output/xgboost-2020-08-16-04-16-27-166/output/model.tar.gz\n",
      "mlndplagiarism/output/xgboost-2020-08-16-05-07-38-148/output/model.tar.gz\n",
      "moon-data/sagemaker-pytorch-2020-08-13-16-02-43-097/debug-output/training_job_end.ts\n",
      "moon-data/sagemaker-pytorch-2020-08-13-16-02-43-097/output/model.tar.gz\n",
      "moon-data/train.csv\n",
      "plagiarism/data//test.csv\n",
      "plagiarism/data//train.csv\n",
      "plagiarism/data/test.csv\n",
      "plagiarism/data/test_without_label.csv\n",
      "plagiarism/data/train.csv\n",
      "sagemaker-pytorch-2020-08-13-16-02-43-097/source/sourcedir.tar.gz\n",
      "sagemaker-pytorch-2020-08-13-16-06-25-528/sourcedir.tar.gz\n",
      "sagemaker-record-sets/LinearLearner-2020-08-13-11-01-46-120/.amazon.manifest\n",
      "sagemaker-record-sets/LinearLearner-2020-08-13-11-01-46-120/matrix_0.pbr\n",
      "sagemaker-record-sets/LinearLearner-2020-08-13-11-15-39-738/.amazon.manifest\n",
      "sagemaker-record-sets/LinearLearner-2020-08-13-11-15-39-738/matrix_0.pbr\n",
      "sagemaker-record-sets/LinearLearner-2020-08-13-11-22-40-815/.amazon.manifest\n",
      "sagemaker-record-sets/LinearLearner-2020-08-13-11-22-40-815/matrix_0.pbr\n",
      "sagemaker-record-sets/LinearLearner-2020-08-13-13-27-56-006/.amazon.manifest\n",
      "sagemaker-record-sets/LinearLearner-2020-08-13-13-27-56-006/matrix_0.pbr\n",
      "sagemaker-record-sets/LinearLearner-2020-08-13-13-32-38-623/.amazon.manifest\n",
      "sagemaker-record-sets/LinearLearner-2020-08-13-13-32-38-623/matrix_0.pbr\n",
      "xgboost-2020-08-16-06-15-42-904/test_without_label.csv.out\n",
      "Test passed!\n"
     ]
    }
   ],
   "source": [
    "\"\"\"\n",
    "DON'T MODIFY ANYTHING IN THIS CELL THAT IS BELOW THIS LINE\n",
    "\"\"\"\n",
    "# confirm that data is in S3 bucket\n",
    "empty_check = []\n",
    "for obj in boto3.resource('s3').Bucket(bucket).objects.all():\n",
    "    empty_check.append(obj.key)\n",
    "    print(obj.key)\n",
    "\n",
    "assert len(empty_check) !=0, 'S3 bucket is empty.'\n",
    "print('Test passed!')"
   ]
  },
  {
   "cell_type": "code",
   "execution_count": 5,
   "metadata": {},
   "outputs": [
    {
     "data": {
      "image/png": "[encoded data removed]",
      "text/plain": [
       "<Figure size 360x360 with 1 Axes>"
      ]
     },
     "metadata": {},
     "output_type": "display_data"
    }
   ],
   "source": [
    "import seaborn as sns\n",
    "import matplotlib.pyplot as plt\n",
    "sns.set(style=\"ticks\", color_codes=True)\n",
    "\n",
    "tips = sns.load_dataset(\"tips\")\n",
    "sns.catplot(x=\"day\", y=\"total_bill\", data=tips);"
   ]
  },
  {
   "cell_type": "code",
   "execution_count": 6,
   "metadata": {},
   "outputs": [
    {
     "name": "stdout",
     "output_type": "stream",
     "text": [
      "   total_bill   tip     sex smoker  day    time  size\n",
      "0       16.99  1.01  Female     No  Sun  Dinner     2\n",
      "1       10.34  1.66    Male     No  Sun  Dinner     3\n"
     ]
    }
   ],
   "source": [
    "print(tips[:2])"
   ]
  },
  {
   "cell_type": "code",
   "execution_count": 7,
   "metadata": {},
   "outputs": [
    {
     "data": {
      "text/html": [
       "<div>\n",
       "<style scoped>\n",
       "    .dataframe tbody tr th:only-of-type {\n",
       "        vertical-align: middle;\n",
       "    }\n",
       "\n",
       "    .dataframe tbody tr th {\n",
       "        vertical-align: top;\n",
       "    }\n",
       "\n",
       "    .dataframe thead th {\n",
       "        text-align: right;\n",
       "    }\n",
       "</style>\n",
       "<table border=\"1\" class=\"dataframe\">\n",
       "  <thead>\n",
       "    <tr style=\"text-align: right;\">\n",
       "      <th></th>\n",
       "      <th>label</th>\n",
       "      <th>c1</th>\n",
       "      <th>c2</th>\n",
       "      <th>lcs</th>\n",
       "    </tr>\n",
       "  </thead>\n",
       "  <tbody>\n",
       "    <tr>\n",
       "      <th>0</th>\n",
       "      <td>0</td>\n",
       "      <td>0.398148</td>\n",
       "      <td>0.000000</td>\n",
       "      <td>0.191781</td>\n",
       "    </tr>\n",
       "    <tr>\n",
       "      <th>1</th>\n",
       "      <td>1</td>\n",
       "      <td>0.869369</td>\n",
       "      <td>0.515982</td>\n",
       "      <td>0.846491</td>\n",
       "    </tr>\n",
       "    <tr>\n",
       "      <th>2</th>\n",
       "      <td>1</td>\n",
       "      <td>0.593583</td>\n",
       "      <td>0.108696</td>\n",
       "      <td>0.316062</td>\n",
       "    </tr>\n",
       "    <tr>\n",
       "      <th>3</th>\n",
       "      <td>0</td>\n",
       "      <td>0.544503</td>\n",
       "      <td>0.005319</td>\n",
       "      <td>0.242574</td>\n",
       "    </tr>\n",
       "    <tr>\n",
       "      <th>4</th>\n",
       "      <td>0</td>\n",
       "      <td>0.329502</td>\n",
       "      <td>0.003876</td>\n",
       "      <td>0.161172</td>\n",
       "    </tr>\n",
       "  </tbody>\n",
       "</table>\n",
       "</div>"
      ],
      "text/plain": [
       "   label        c1        c2       lcs\n",
       "0      0  0.398148  0.000000  0.191781\n",
       "1      1  0.869369  0.515982  0.846491\n",
       "2      1  0.593583  0.108696  0.316062\n",
       "3      0  0.544503  0.005319  0.242574\n",
       "4      0  0.329502  0.003876  0.161172"
      ]
     },
     "execution_count": 7,
     "metadata": {},
     "output_type": "execute_result"
    }
   ],
   "source": [
    "\n",
    "df = pd.read_csv(localTrainPath, names=colnames, header=None)  \n",
    "df.head(5)"
   ]
  },
  {
   "cell_type": "code",
   "execution_count": 8,
   "metadata": {},
   "outputs": [
    {
     "data": {
      "image/png": "[encoded data removed]",
      "text/plain": [
       "<Figure size 360x360 with 1 Axes>"
      ]
     },
     "metadata": {},
     "output_type": "display_data"
    }
   ],
   "source": [
    "sns.catplot(x=\"label\", y=\"lcs\", data=df);"
   ]
  },
  {
   "cell_type": "code",
   "execution_count": 9,
   "metadata": {},
   "outputs": [
    {
     "data": {
      "image/png": "[encoded data removed]",
      "text/plain": [
       "<Figure size 360x360 with 1 Axes>"
      ]
     },
     "metadata": {},
     "output_type": "display_data"
    }
   ],
   "source": [
    "sns.catplot(x=\"label\", y=\"c1\", data=df);"
   ]
  },
  {
   "cell_type": "code",
   "execution_count": 10,
   "metadata": {},
   "outputs": [
    {
     "data": {
      "image/png": "[encoded data removed]",
      "text/plain": [
       "<Figure size 360x360 with 1 Axes>"
      ]
     },
     "metadata": {},
     "output_type": "display_data"
    }
   ],
   "source": [
    "sns.catplot(x=\"label\", y=\"c2\", data=df);"
   ]
  },
  {
   "cell_type": "code",
   "execution_count": 11,
   "metadata": {},
   "outputs": [
    {
     "data": {
      "image/png": "[encoded data removed]",
      "text/plain": [
       "<Figure size 432x288 with 1 Axes>"
      ]
     },
     "metadata": {},
     "output_type": "display_data"
    }
   ],
   "source": [
    "ax = sns.scatterplot(x=\"c1\", y=\"lcs\", hue=\"label\", data=df)"
   ]
  },
  {
   "cell_type": "code",
   "execution_count": 12,
   "metadata": {},
   "outputs": [
    {
     "data": {
      "image/png": "[encoded data removed]",
      "text/plain": [
       "<Figure size 432x288 with 1 Axes>"
      ]
     },
     "metadata": {},
     "output_type": "display_data"
    }
   ],
   "source": [
    "ax = sns.scatterplot(x=\"c1\", y=\"c2\", hue=\"label\", data=df)"
   ]
  },
  {
   "cell_type": "code",
   "execution_count": 13,
   "metadata": {},
   "outputs": [
    {
     "data": {
      "image/png": "[encoded data removed]",
      "text/plain": [
       "<Figure size 432x288 with 1 Axes>"
      ]
     },
     "metadata": {},
     "output_type": "display_data"
    }
   ],
   "source": [
    "ax = sns.scatterplot(x=\"c1\", y=\"c2\", hue=\"label\", data=df)"
   ]
  },
  {
   "cell_type": "markdown",
   "metadata": {},
   "source": [
    "---\n",
    "\n",
    "# Modeling\n",
    "\n",
    "Now that you've uploaded your training data, it's time to define and train a model!\n",
    "\n",
    "The type of model you create is up to you. For a binary classification task, you can choose to go one of three routes:\n",
    "* Use a built-in classification algorithm, like LinearLearner.\n",
    "* Define a custom Scikit-learn classifier, a comparison of models can be found [here](https://scikit-learn.org/stable/auto_examples/classification/plot_classifier_comparison.html).\n",
    "* Define a custom PyTorch neural network classifier. \n",
    "\n",
    "It will be up to you to test out a variety of models and choose the best one. Your project will be graded on the accuracy of your final model. \n",
    " \n",
    "---\n",
    "\n",
    "## EXERCISE: Complete a training script \n",
    "\n",
    "To implement a custom classifier, you'll need to complete a `train.py` script. You've been given the folders `source_sklearn` and `source_pytorch` which hold starting code for a custom Scikit-learn model and a PyTorch model, respectively. Each directory has a `train.py` training script. To complete this project **you only need to complete one of these scripts**; the script that is responsible for training your final model.\n",
    "\n",
    "A typical training script:\n",
    "* Loads training data from a specified directory\n",
    "* Parses any training & model hyperparameters (ex. nodes in a neural network, training epochs, etc.)\n",
    "* Instantiates a model of your design, with any specified hyperparams\n",
    "* Trains that model \n",
    "* Finally, saves the model so that it can be hosted/deployed, later\n",
    "\n",
    "### Defining and training a model\n",
    "Much of the training script code is provided for you. Almost all of your work will be done in the `if __name__ == '__main__':` section. To complete a `train.py` file, you will:\n",
    "1. Import any extra libraries you need\n",
    "2. Define any additional model training hyperparameters using `parser.add_argument`\n",
    "2. Define a model in the `if __name__ == '__main__':` section\n",
    "3. Train the model in that same section\n",
    "\n",
    "Below, you can use `!pygmentize` to display an existing `train.py` file. Read through the code; all of your tasks are marked with `TODO` comments. \n",
    "\n",
    "**Note: If you choose to create a custom PyTorch model, you will be responsible for defining the model in the `model.py` file,** and a `predict.py` file is provided. If you choose to use Scikit-learn, you only need a `train.py` file; you may import a classifier from the `sklearn` library."
   ]
  },
  {
   "cell_type": "code",
   "execution_count": 14,
   "metadata": {},
   "outputs": [
    {
     "name": "stdout",
     "output_type": "stream",
     "text": [
      "\u001b[34mfrom\u001b[39;49;00m \u001b[04m\u001b[36m__future__\u001b[39;49;00m \u001b[34mimport\u001b[39;49;00m print_function\r\n",
      "\r\n",
      "\u001b[34mimport\u001b[39;49;00m \u001b[04m\u001b[36margparse\u001b[39;49;00m\r\n",
      "\u001b[34mimport\u001b[39;49;00m \u001b[04m\u001b[36mos\u001b[39;49;00m\r\n",
      "\u001b[34mimport\u001b[39;49;00m \u001b[04m\u001b[36mpandas\u001b[39;49;00m \u001b[34mas\u001b[39;49;00m \u001b[04m\u001b[36mpd\u001b[39;49;00m\r\n",
      "\r\n",
      "\u001b[34mfrom\u001b[39;49;00m \u001b[04m\u001b[36msklearn\u001b[39;49;00m\u001b[04m\u001b[36m.\u001b[39;49;00m\u001b[04m\u001b[36mexternals\u001b[39;49;00m \u001b[34mimport\u001b[39;49;00m joblib\r\n",
      "\r\n",
      "\u001b[37m## TODO: Import any additional libraries you need to define a model\u001b[39;49;00m\r\n",
      "\r\n",
      "\r\n",
      "\u001b[37m# Provided model load function\u001b[39;49;00m\r\n",
      "\u001b[34mdef\u001b[39;49;00m \u001b[32mmodel_fn\u001b[39;49;00m(model_dir):\r\n",
      "    \u001b[33m\"\"\"Load model from the model_dir. This is the same model that is saved\u001b[39;49;00m\r\n",
      "\u001b[33m    in the main if statement.\u001b[39;49;00m\r\n",
      "\u001b[33m    \"\"\"\u001b[39;49;00m\r\n",
      "    \u001b[36mprint\u001b[39;49;00m(\u001b[33m\"\u001b[39;49;00m\u001b[33mLoading model.\u001b[39;49;00m\u001b[33m\"\u001b[39;49;00m)\r\n",
      "    \r\n",
      "    \u001b[37m# load using joblib\u001b[39;49;00m\r\n",
      "    model = joblib.load(os.path.join(model_dir, \u001b[33m\"\u001b[39;49;00m\u001b[33mmodel.joblib\u001b[39;49;00m\u001b[33m\"\u001b[39;49;00m))\r\n",
      "    \u001b[36mprint\u001b[39;49;00m(\u001b[33m\"\u001b[39;49;00m\u001b[33mDone loading model.\u001b[39;49;00m\u001b[33m\"\u001b[39;49;00m)\r\n",
      "    \r\n",
      "    \u001b[34mreturn\u001b[39;49;00m model\r\n",
      "\r\n",
      "\r\n",
      "\u001b[37m## TODO: Complete the main code\u001b[39;49;00m\r\n",
      "\u001b[34mif\u001b[39;49;00m \u001b[31m__name__\u001b[39;49;00m == \u001b[33m'\u001b[39;49;00m\u001b[33m__main__\u001b[39;49;00m\u001b[33m'\u001b[39;49;00m:\r\n",
      "    \r\n",
      "    \u001b[37m# All of the model parameters and training parameters are sent as arguments\u001b[39;49;00m\r\n",
      "    \u001b[37m# when this script is executed, during a training job\u001b[39;49;00m\r\n",
      "    \r\n",
      "    \u001b[37m# Here we set up an argument parser to easily access the parameters\u001b[39;49;00m\r\n",
      "    parser = argparse.ArgumentParser()\r\n",
      "\r\n",
      "    \u001b[37m# SageMaker parameters, like the directories for training data and saving models; set automatically\u001b[39;49;00m\r\n",
      "    \u001b[37m# Do not need to change\u001b[39;49;00m\r\n",
      "    parser.add_argument(\u001b[33m'\u001b[39;49;00m\u001b[33m--output-data-dir\u001b[39;49;00m\u001b[33m'\u001b[39;49;00m, \u001b[36mtype\u001b[39;49;00m=\u001b[36mstr\u001b[39;49;00m, default=os.environ[\u001b[33m'\u001b[39;49;00m\u001b[33mSM_OUTPUT_DATA_DIR\u001b[39;49;00m\u001b[33m'\u001b[39;49;00m])\r\n",
      "    parser.add_argument(\u001b[33m'\u001b[39;49;00m\u001b[33m--model-dir\u001b[39;49;00m\u001b[33m'\u001b[39;49;00m, \u001b[36mtype\u001b[39;49;00m=\u001b[36mstr\u001b[39;49;00m, default=os.environ[\u001b[33m'\u001b[39;49;00m\u001b[33mSM_MODEL_DIR\u001b[39;49;00m\u001b[33m'\u001b[39;49;00m])\r\n",
      "    parser.add_argument(\u001b[33m'\u001b[39;49;00m\u001b[33m--data-dir\u001b[39;49;00m\u001b[33m'\u001b[39;49;00m, \u001b[36mtype\u001b[39;49;00m=\u001b[36mstr\u001b[39;49;00m, default=os.environ[\u001b[33m'\u001b[39;49;00m\u001b[33mSM_CHANNEL_TRAIN\u001b[39;49;00m\u001b[33m'\u001b[39;49;00m])\r\n",
      "    \r\n",
      "    \u001b[37m## TODO: Add any additional arguments that you will need to pass into your model\u001b[39;49;00m\r\n",
      "    \r\n",
      "    \u001b[37m# args holds all passed-in arguments\u001b[39;49;00m\r\n",
      "    args = parser.parse_args()\r\n",
      "\r\n",
      "    \u001b[37m# Read in csv training file\u001b[39;49;00m\r\n",
      "    training_dir = args.data_dir\r\n",
      "    train_data = pd.read_csv(os.path.join(training_dir, \u001b[33m\"\u001b[39;49;00m\u001b[33mtrain.csv\u001b[39;49;00m\u001b[33m\"\u001b[39;49;00m), header=\u001b[34mNone\u001b[39;49;00m, names=\u001b[34mNone\u001b[39;49;00m)\r\n",
      "\r\n",
      "    \u001b[37m# Labels are in the first column\u001b[39;49;00m\r\n",
      "    train_y = train_data.iloc[:,\u001b[34m0\u001b[39;49;00m]\r\n",
      "    train_x = train_data.iloc[:,\u001b[34m1\u001b[39;49;00m:]\r\n",
      "    \r\n",
      "    \r\n",
      "    \u001b[37m## --- Your code here --- ##\u001b[39;49;00m\r\n",
      "    \r\n",
      "\r\n",
      "    \u001b[37m## TODO: Define a model \u001b[39;49;00m\r\n",
      "    model = \u001b[34mNone\u001b[39;49;00m\r\n",
      "    \r\n",
      "    \r\n",
      "    \u001b[37m## TODO: Train the model\u001b[39;49;00m\r\n",
      "    \r\n",
      "    \r\n",
      "    \r\n",
      "    \u001b[37m## --- End of your code  --- ##\u001b[39;49;00m\r\n",
      "    \r\n",
      "\r\n",
      "    \u001b[37m# Save the trained model\u001b[39;49;00m\r\n",
      "    joblib.dump(model, os.path.join(args.model_dir, \u001b[33m\"\u001b[39;49;00m\u001b[33mmodel.joblib\u001b[39;49;00m\u001b[33m\"\u001b[39;49;00m))\r\n"
     ]
    }
   ],
   "source": [
    "# directory can be changed to: source_sklearn or source_pytorch\n",
    "!pygmentize source_sklearn/train.py"
   ]
  },
  {
   "cell_type": "markdown",
   "metadata": {},
   "source": [
    "### Provided code\n",
    "\n",
    "If you read the code above, you can see that the starter code includes a few things:\n",
    "* Model loading (`model_fn`) and saving code\n",
    "* Getting SageMaker's default hyperparameters\n",
    "* Loading the training data by name, `train.csv` and extracting the features and labels, `train_x`, and `train_y`\n",
    "\n",
    "If you'd like to read more about model saving with [joblib for sklearn](https://scikit-learn.org/stable/modules/model_persistence.html) or with [torch.save](https://pytorch.org/tutorials/beginner/saving_loading_models.html), click on the provided links."
   ]
  },
  {
   "cell_type": "markdown",
   "metadata": {},
   "source": [
    "---\n",
    "# Create an Estimator\n",
    "\n",
    "When a custom model is constructed in SageMaker, an entry point must be specified. This is the Python file which will be executed when the model is trained; the `train.py` function you specified above. To run a custom training script in SageMaker, construct an estimator, and fill in the appropriate constructor arguments:\n",
    "\n",
    "* **entry_point**: The path to the Python script SageMaker runs for training and prediction.\n",
    "* **source_dir**: The path to the training script directory `source_sklearn` OR `source_pytorch`.\n",
    "* **entry_point**: The path to the Python script SageMaker runs for training and prediction.\n",
    "* **source_dir**: The path to the training script directory `train_sklearn` OR `train_pytorch`.\n",
    "* **entry_point**: The path to the Python script SageMaker runs for training.\n",
    "* **source_dir**: The path to the training script directory `train_sklearn` OR `train_pytorch`.\n",
    "* **role**: Role ARN, which was specified, above.\n",
    "* **train_instance_count**: The number of training instances (should be left at 1).\n",
    "* **train_instance_type**: The type of SageMaker instance for training. Note: Because Scikit-learn does not natively support GPU training, Sagemaker Scikit-learn does not currently support training on GPU instance types.\n",
    "* **sagemaker_session**: The session used to train on Sagemaker.\n",
    "* **hyperparameters** (optional): A dictionary `{'name':value, ..}` passed to the train function as hyperparameters.\n",
    "\n",
    "Note: For a PyTorch model, there is another optional argument **framework_version**, which you can set to the latest version of PyTorch, `1.0`.\n",
    "\n",
    "## EXERCISE: Define a Scikit-learn or PyTorch estimator\n",
    "\n",
    "To import your desired estimator, use one of the following lines:\n",
    "```\n",
    "from sagemaker.sklearn.estimator import SKLearn\n",
    "```\n",
    "```\n",
    "from sagemaker.pytorch import PyTorch\n",
    "```"
   ]
  },
  {
   "cell_type": "code",
   "execution_count": 15,
   "metadata": {},
   "outputs": [
    {
     "name": "stderr",
     "output_type": "stream",
     "text": [
      "'get_image_uri' method will be deprecated in favor of 'ImageURIProvider' class in SageMaker Python SDK v2.\n",
      "There is a more up to date SageMaker XGBoost image. To use the newer image, please set 'repo_version'='1.0-1'. For example:\n",
      "\tget_image_uri(region, 'xgboost', '1.0-1').\n",
      "Parameter image_name will be renamed to image_uri in SageMaker Python SDK v2.\n",
      "'s3_input' class will be renamed to 'TrainingInput' in SageMaker Python SDK v2.\n",
      "'s3_input' class will be renamed to 'TrainingInput' in SageMaker Python SDK v2.\n"
     ]
    }
   ],
   "source": [
    "\n",
    "# your import and estimator code, here\n",
    "\n",
    "prefix = \"mlndplagiarism\"\n",
    "from sagemaker import get_execution_role\n",
    "\n",
    "# Our current execution role is require when creating the model as the training\n",
    "# and inference code will need to access the model artifacts.\n",
    "role = get_execution_role()\n",
    "\n",
    "from sagemaker.amazon.amazon_estimator import get_image_uri\n",
    "\n",
    "container = get_image_uri(sagemaker_session.boto_region_name, 'xgboost')\n",
    "\n",
    "xgb = sagemaker.estimator.Estimator(container, # The location of the container we wish to use\n",
    "                                    role,                                    # What is our current IAM Role\n",
    "                                    train_instance_count=1,                  # How many compute instances\n",
    "                                    train_instance_type='ml.m4.xlarge',      # What kind of compute instances\n",
    "                                    output_path='s3://{}/{}/output'.format(sagemaker_session.default_bucket(), prefix),\n",
    "                                    sagemaker_session=sagemaker_session)\n",
    "\n",
    "# And then set the algorithm specific parameters.\n",
    "xgb.set_hyperparameters(max_depth=5,\n",
    "                        eta=0.2,\n",
    "                        gamma=4,\n",
    "                        min_child_weight=6,\n",
    "                        subsample=0.8,\n",
    "                        silent=0,\n",
    "                        objective='binary:logistic',\n",
    "                        early_stopping_rounds=10,\n",
    "                        num_round=500)\n",
    "\n",
    "s3_input_train = sagemaker.s3_input(s3_data=train_path, content_type='csv')\n",
    "s3_input_validation = sagemaker.s3_input(s3_data=test_path, content_type='csv')"
   ]
  },
  {
   "cell_type": "markdown",
   "metadata": {},
   "source": [
    "## EXERCISE: Train the estimator\n",
    "\n",
    "Train your estimator on the training data stored in S3. This should create a training job that you can monitor in your SageMaker console."
   ]
  },
  {
   "cell_type": "code",
   "execution_count": 34,
   "metadata": {},
   "outputs": [
    {
     "name": "stdout",
     "output_type": "stream",
     "text": [
      "2020-08-16 09:23:48 Starting - Starting the training job...\n",
      "2020-08-16 09:23:51 Starting - Launching requested ML instances......\n",
      "2020-08-16 09:25:01 Starting - Preparing the instances for training......\n",
      "2020-08-16 09:25:53 Downloading - Downloading input data...\n",
      "2020-08-16 09:26:49 Training - Training image download completed. Training in progress..\u001b[34mArguments: train\u001b[0m\n",
      "\u001b[34m[2020-08-16:09:26:49:INFO] Running standalone xgboost training.\u001b[0m\n",
      "\u001b[34m[2020-08-16:09:26:49:INFO] Path /opt/ml/input/data/validation does not exist!\u001b[0m\n",
      "\u001b[34m[2020-08-16:09:26:49:INFO] File size need to be processed in the node: 0.0mb. Available memory size in the node: 8496.06mb\u001b[0m\n",
      "\u001b[34m[2020-08-16:09:26:49:INFO] Determined delimiter of CSV input is ','\u001b[0m\n",
      "\u001b[34m[09:26:49] S3DistributionType set as FullyReplicated\u001b[0m\n",
      "\u001b[34m[09:26:49] 70x3 matrix with 210 entries loaded from /opt/ml/input/data/train?format=csv&label_column=0&delimiter=,\u001b[0m\n",
      "\u001b[34m[09:26:49] src/tree/updater_prune.cc:74: tree pruning end, 1 roots, 2 extra nodes, 0 pruned nodes, max_depth=1\u001b[0m\n",
      "\u001b[34m[0]#011train-error:0.042857\u001b[0m\n",
      "\u001b[34mWill train until train-error hasn't improved in 10 rounds.\u001b[0m\n",
      "\u001b[34m[09:26:49] src/tree/updater_prune.cc:74: tree pruning end, 1 roots, 2 extra nodes, 0 pruned nodes, max_depth=1\u001b[0m\n",
      "\u001b[34m[09:26:49] src/tree/updater_prune.cc:74: tree pruning end, 1 roots, 2 extra nodes, 0 pruned nodes, max_depth=1\u001b[0m\n",
      "\u001b[34m[1]#011train-error:0.042857\u001b[0m\n",
      "\u001b[34m[2]#011train-error:0.042857\u001b[0m\n",
      "\u001b[34m[09:26:49] src/tree/updater_prune.cc:74: tree pruning end, 1 roots, 2 extra nodes, 0 pruned nodes, max_depth=1\u001b[0m\n",
      "\u001b[34m[3]#011train-error:0.042857\u001b[0m\n",
      "\u001b[34m[09:26:49] src/tree/updater_prune.cc:74: tree pruning end, 1 roots, 0 extra nodes, 0 pruned nodes, max_depth=0\u001b[0m\n",
      "\u001b[34m[09:26:49] src/tree/updater_prune.cc:74: tree pruning end, 1 roots, 0 extra nodes, 0 pruned nodes, max_depth=0\u001b[0m\n",
      "\u001b[34m[4]#011train-error:0.042857\u001b[0m\n",
      "\u001b[34m[09:26:49] src/tree/updater_prune.cc:74: tree pruning end, 1 roots, 0 extra nodes, 0 pruned nodes, max_depth=0\u001b[0m\n",
      "\u001b[34m[5]#011train-error:0.042857\u001b[0m\n",
      "\u001b[34m[09:26:49] src/tree/updater_prune.cc:74: tree pruning end, 1 roots, 0 extra nodes, 0 pruned nodes, max_depth=0\u001b[0m\n",
      "\u001b[34m[6]#011train-error:0.042857\u001b[0m\n",
      "\u001b[34m[09:26:49] src/tree/updater_prune.cc:74: tree pruning end, 1 roots, 0 extra nodes, 0 pruned nodes, max_depth=0\u001b[0m\n",
      "\u001b[34m[7]#011train-error:0.042857\u001b[0m\n",
      "\u001b[34m[09:26:49] src/tree/updater_prune.cc:74: tree pruning end, 1 roots, 0 extra nodes, 0 pruned nodes, max_depth=0\u001b[0m\n",
      "\u001b[34m[8]#011train-error:0.042857\u001b[0m\n",
      "\u001b[34m[9]#011train-error:0.042857\u001b[0m\n",
      "\u001b[34m[10]#011train-error:0.042857\u001b[0m\n",
      "\u001b[34mStopping. Best iteration:\u001b[0m\n",
      "\u001b[34m[0]#011train-error:0.042857\n",
      "\u001b[0m\n",
      "\u001b[34m[09:26:49] src/tree/updater_prune.cc:74: tree pruning end, 1 roots, 0 extra nodes, 0 pruned nodes, max_depth=0\u001b[0m\n",
      "\n",
      "2020-08-16 09:27:01 Uploading - Uploading generated training model\n",
      "2020-08-16 09:27:01 Completed - Training job completed\n",
      "Training seconds: 68\n",
      "Billable seconds: 68\n",
      "CPU times: user 468 ms, sys: 9.54 ms, total: 478 ms\n",
      "Wall time: 3min 41s\n"
     ]
    }
   ],
   "source": [
    "%%time\n",
    "\n",
    "# Train your estimator on S3 training data\n",
    "xgb.fit({'train': s3_input_train})\n"
   ]
  },
  {
   "cell_type": "markdown",
   "metadata": {},
   "source": [
    "## EXERCISE: Deploy the trained model\n",
    "\n",
    "After training, deploy your model to create a `predictor`. If you're using a PyTorch model, you'll need to create a trained `PyTorchModel` that accepts the trained `<model>.model_data` as an input parameter and points to the provided `source_pytorch/predict.py` file as an entry point. \n",
    "\n",
    "To deploy a trained model, you'll use `<model>.deploy`, which takes in two arguments:\n",
    "* **initial_instance_count**: The number of deployed instances (1).\n",
    "* **instance_type**: The type of SageMaker instance for deployment.\n",
    "\n",
    "Note: If you run into an instance error, it may be because you chose the wrong training or deployment instance_type. It may help to refer to your previous exercise code to see which types of instances we used."
   ]
  },
  {
   "cell_type": "code",
   "execution_count": 36,
   "metadata": {},
   "outputs": [
    {
     "name": "stderr",
     "output_type": "stream",
     "text": [
      "Parameter image will be renamed to image_uri in SageMaker Python SDK v2.\n",
      "Using already existing model: xgboost-2020-08-16-09-23-48-530\n"
     ]
    },
    {
     "name": "stdout",
     "output_type": "stream",
     "text": [
      "-------------!CPU times: user 240 ms, sys: 6.43 ms, total: 247 ms\n",
      "Wall time: 6min 31s\n"
     ]
    }
   ],
   "source": [
    "%%time\n",
    "\n",
    "# uncomment, if needed\n",
    "# from sagemaker.pytorch import PyTorchModel\n",
    "\n",
    "\n",
    "# deploy your model to create a predictor\n",
    "predictor = xgb.deploy(initial_instance_count = 1, instance_type = 'ml.m4.xlarge')\n"
   ]
  },
  {
   "cell_type": "markdown",
   "metadata": {},
   "source": [
    "---\n",
    "# Evaluating Your Model\n",
    "\n",
    "Once your model is deployed, you can see how it performs when applied to our test data.\n",
    "\n",
    "The provided cell below, reads in the test data, assuming it is stored locally in `data_dir` and named `test.csv`. The labels and features are extracted from the `.csv` file."
   ]
  },
  {
   "cell_type": "code",
   "execution_count": 38,
   "metadata": {},
   "outputs": [],
   "source": [
    "\"\"\"\n",
    "DON'T MODIFY ANYTHING IN THIS CELL THAT IS BELOW THIS LINE\n",
    "\"\"\"\n",
    "import os\n",
    "\n",
    "# read in test data, assuming it is stored locally\n",
    "test_data = pd.read_csv(os.path.join(data_dir, \"test.csv\"), header=None, names=None)\n",
    "\n",
    "# labels are in the first column\n",
    "test_y = test_data.iloc[:,0]\n",
    "test_x = test_data.iloc[:,1:]"
   ]
  },
  {
   "cell_type": "markdown",
   "metadata": {},
   "source": [
    "## EXERCISE: Determine the accuracy of your model\n",
    "\n",
    "Use your deployed `predictor` to generate predicted, class labels for the test data. Compare those to the *true* labels, `test_y`, and calculate the accuracy as a value between 0 and 1.0 that indicates the fraction of test data that your model classified correctly. You may use [sklearn.metrics](https://scikit-learn.org/stable/modules/classes.html#module-sklearn.metrics) for this calculation.\n",
    "\n",
    "**To pass this project, your model should get at least 90% test accuracy.**"
   ]
  },
  {
   "cell_type": "code",
   "execution_count": 39,
   "metadata": {},
   "outputs": [
    {
     "name": "stderr",
     "output_type": "stream",
     "text": [
      "Parameter image will be renamed to image_uri in SageMaker Python SDK v2.\n",
      "Using already existing model: xgboost-2020-08-16-09-23-48-530\n"
     ]
    }
   ],
   "source": [
    "xgb_transformer = xgb.transformer(instance_count = 1, instance_type = 'ml.m4.xlarge')\n",
    "xgb_transformer.transform(testdata_without_label_path, content_type='text/csv', split_type='Line')"
   ]
  },
  {
   "cell_type": "code",
   "execution_count": 40,
   "metadata": {},
   "outputs": [
    {
     "name": "stdout",
     "output_type": "stream",
     "text": [
      "...........................\n",
      ".\u001b[32m2020-08-16T09:41:16.411:[sagemaker logs]: MaxConcurrentTransforms=4, MaxPayloadInMB=6, BatchStrategy=MULTI_RECORD\u001b[0m\n",
      "\u001b[34mArguments: serve\u001b[0m\n",
      "\u001b[34m[2020-08-16 09:41:16 +0000] [1] [INFO] Starting gunicorn 19.7.1\u001b[0m\n",
      "\u001b[34m[2020-08-16 09:41:16 +0000] [1] [INFO] Listening at: http://0.0.0.0:8080 (1)\u001b[0m\n",
      "\u001b[34m[2020-08-16 09:41:16 +0000] [1] [INFO] Using worker: gevent\u001b[0m\n",
      "\u001b[34m[2020-08-16 09:41:16 +0000] [37] [INFO] Booting worker with pid: 37\u001b[0m\n",
      "\u001b[34m[2020-08-16:09:41:16:INFO] Model loaded successfully for worker : 37\u001b[0m\n",
      "\u001b[34m[2020-08-16 09:41:16 +0000] [38] [INFO] Booting worker with pid: 38\u001b[0m\n",
      "\u001b[34m[2020-08-16:09:41:16:INFO] Sniff delimiter as ','\u001b[0m\n",
      "\u001b[34m[2020-08-16:09:41:16:INFO] Determined delimiter of CSV input is ','\u001b[0m\n",
      "\u001b[34m[2020-08-16 09:41:16 +0000] [39] [INFO] Booting worker with pid: 39\u001b[0m\n",
      "\u001b[34m[2020-08-16:09:41:16:INFO] Model loaded successfully for worker : 38\u001b[0m\n",
      "\u001b[34m[2020-08-16 09:41:16 +0000] [40] [INFO] Booting worker with pid: 40\u001b[0m\n",
      "\u001b[34m[2020-08-16:09:41:16:INFO] Model loaded successfully for worker : 39\u001b[0m\n",
      "\u001b[34m[2020-08-16:09:41:16:INFO] Model loaded successfully for worker : 40\u001b[0m\n",
      "\u001b[35mArguments: serve\u001b[0m\n",
      "\u001b[35m[2020-08-16 09:41:16 +0000] [1] [INFO] Starting gunicorn 19.7.1\u001b[0m\n",
      "\u001b[35m[2020-08-16 09:41:16 +0000] [1] [INFO] Listening at: http://0.0.0.0:8080 (1)\u001b[0m\n",
      "\u001b[35m[2020-08-16 09:41:16 +0000] [1] [INFO] Using worker: gevent\u001b[0m\n",
      "\u001b[35m[2020-08-16 09:41:16 +0000] [37] [INFO] Booting worker with pid: 37\u001b[0m\n",
      "\u001b[35m[2020-08-16:09:41:16:INFO] Model loaded successfully for worker : 37\u001b[0m\n",
      "\u001b[35m[2020-08-16 09:41:16 +0000] [38] [INFO] Booting worker with pid: 38\u001b[0m\n",
      "\u001b[35m[2020-08-16:09:41:16:INFO] Sniff delimiter as ','\u001b[0m\n",
      "\u001b[35m[2020-08-16:09:41:16:INFO] Determined delimiter of CSV input is ','\u001b[0m\n",
      "\u001b[35m[2020-08-16 09:41:16 +0000] [39] [INFO] Booting worker with pid: 39\u001b[0m\n",
      "\u001b[35m[2020-08-16:09:41:16:INFO] Model loaded successfully for worker : 38\u001b[0m\n",
      "\u001b[35m[2020-08-16 09:41:16 +0000] [40] [INFO] Booting worker with pid: 40\u001b[0m\n",
      "\u001b[35m[2020-08-16:09:41:16:INFO] Model loaded successfully for worker : 39\u001b[0m\n",
      "\u001b[35m[2020-08-16:09:41:16:INFO] Model loaded successfully for worker : 40\u001b[0m\n"
     ]
    }
   ],
   "source": [
    "xgb_transformer.wait()"
   ]
  },
  {
   "cell_type": "code",
   "execution_count": 41,
   "metadata": {},
   "outputs": [
    {
     "name": "stdout",
     "output_type": "stream",
     "text": [
      "Completed 359 Bytes/359 Bytes (4.6 KiB/s) with 1 file(s) remaining\r",
      "download: s3://sagemaker-us-west-2-491361370672/xgboost-2020-08-16-09-36-47-949/test_without_label.csv.out to plagiarism_data/test_without_label.csv.out\r\n"
     ]
    }
   ],
   "source": [
    "!aws s3 cp --recursive $xgb_transformer.output_path $data_dir"
   ]
  },
  {
   "cell_type": "code",
   "execution_count": 42,
   "metadata": {},
   "outputs": [],
   "source": [
    "predictions = pd.read_csv(os.path.join(data_dir, 'test_without_label.csv.out'), header=None)\n",
    "predictions = [round(num) for num in predictions.squeeze().values]"
   ]
  },
  {
   "cell_type": "code",
   "execution_count": 43,
   "metadata": {},
   "outputs": [
    {
     "name": "stdout",
     "output_type": "stream",
     "text": [
      "[1.0, 1.0, 1.0, 1.0, 1.0, 1.0, 0.0, 0.0, 0.0, 0.0]\n"
     ]
    }
   ],
   "source": [
    "print(predictions[:10])"
   ]
  },
  {
   "cell_type": "code",
   "execution_count": 44,
   "metadata": {},
   "outputs": [
    {
     "name": "stdout",
     "output_type": "stream",
     "text": [
      "Test passed!\n"
     ]
    }
   ],
   "source": [
    "# First: generate predicted, class labels\n",
    "test_y_preds = predictions\n",
    "\n",
    "\n",
    "\n",
    "\"\"\"\n",
    "DON'T MODIFY ANYTHING IN THIS CELL THAT IS BELOW THIS LINE\n",
    "\"\"\"\n",
    "# test that your model generates the correct number of labels\n",
    "assert len(test_y_preds)==len(test_y), 'Unexpected number of predictions.'\n",
    "print('Test passed!')"
   ]
  },
  {
   "cell_type": "code",
   "execution_count": 45,
   "metadata": {},
   "outputs": [
    {
     "name": "stdout",
     "output_type": "stream",
     "text": [
      "0.92\n",
      "\n",
      "Predicted class labels: \n",
      "[1.0, 1.0, 1.0, 1.0, 1.0, 1.0, 0.0, 0.0, 0.0, 0.0, 0.0, 1.0, 1.0, 1.0, 1.0, 1.0, 1.0, 1.0, 0.0, 1.0, 0.0, 1.0, 1.0, 0.0, 1.0]\n",
      "\n",
      "True class labels: \n",
      "[1 1 1 1 1 1 0 0 0 0 0 0 1 1 1 1 1 1 0 1 0 1 1 0 0]\n"
     ]
    }
   ],
   "source": [
    "from sklearn.metrics import accuracy_score\n",
    "\n",
    "# Second: calculate the test accuracy\n",
    "accuracy = accuracy_score(test_y, test_y_preds)\n",
    "\n",
    "print(accuracy)\n",
    "\n",
    "\n",
    "## print out the array of predicted and true labels, if you want\n",
    "print('\\nPredicted class labels: ')\n",
    "print(test_y_preds)\n",
    "print('\\nTrue class labels: ')\n",
    "print(test_y.values)"
   ]
  },
  {
   "cell_type": "code",
   "execution_count": 46,
   "metadata": {},
   "outputs": [
    {
     "data": {
      "text/plain": [
       "array([[ 8,  2],\n",
       "       [ 0, 15]])"
      ]
     },
     "execution_count": 46,
     "metadata": {},
     "output_type": "execute_result"
    }
   ],
   "source": [
    "from sklearn.metrics import confusion_matrix\n",
    "cm = confusion_matrix(test_y, test_y_preds)\n",
    "cm"
   ]
  },
  {
   "cell_type": "code",
   "execution_count": 47,
   "metadata": {},
   "outputs": [
    {
     "name": "stdout",
     "output_type": "stream",
     "text": [
      "TrueNegative=8; FalsePositive=2; FalseNegative=0; TruePositive=15\n"
     ]
    }
   ],
   "source": [
    "tn, fp, fn, tp = cm.ravel()\n",
    "\n",
    "print('TrueNegative={}; FalsePositive={}; FalseNegative={}; TruePositive={}'.format(tn, fp, fn, tp))"
   ]
  },
  {
   "cell_type": "code",
   "execution_count": 48,
   "metadata": {},
   "outputs": [],
   "source": [
    "testFullPath = '{}/{}'.format(data_dir, 'test_df.csv')\n",
    "testFull = pd.read_csv(testFullPath)"
   ]
  },
  {
   "cell_type": "code",
   "execution_count": 49,
   "metadata": {},
   "outputs": [
    {
     "data": {
      "text/html": [
       "<div>\n",
       "<style scoped>\n",
       "    .dataframe tbody tr th:only-of-type {\n",
       "        vertical-align: middle;\n",
       "    }\n",
       "\n",
       "    .dataframe tbody tr th {\n",
       "        vertical-align: top;\n",
       "    }\n",
       "\n",
       "    .dataframe thead th {\n",
       "        text-align: right;\n",
       "    }\n",
       "</style>\n",
       "<table border=\"1\" class=\"dataframe\">\n",
       "  <thead>\n",
       "    <tr style=\"text-align: right;\">\n",
       "      <th></th>\n",
       "      <th>File</th>\n",
       "      <th>Task</th>\n",
       "      <th>Category</th>\n",
       "      <th>Class</th>\n",
       "      <th>Text</th>\n",
       "      <th>Datatype</th>\n",
       "      <th>c_1</th>\n",
       "      <th>c_2</th>\n",
       "      <th>c_3</th>\n",
       "      <th>c_4</th>\n",
       "      <th>...</th>\n",
       "      <th>c_6</th>\n",
       "      <th>c_7</th>\n",
       "      <th>c_8</th>\n",
       "      <th>c_9</th>\n",
       "      <th>c_10</th>\n",
       "      <th>c_11</th>\n",
       "      <th>c_12</th>\n",
       "      <th>c_13</th>\n",
       "      <th>c_14</th>\n",
       "      <th>lcs_word</th>\n",
       "    </tr>\n",
       "  </thead>\n",
       "  <tbody>\n",
       "    <tr>\n",
       "      <th>0</th>\n",
       "      <td>g0pA_taskb.txt</td>\n",
       "      <td>b</td>\n",
       "      <td>3</td>\n",
       "      <td>1</td>\n",
       "      <td>pagerank is a link analysis algorithm used by ...</td>\n",
       "      <td>test</td>\n",
       "      <td>1.000000</td>\n",
       "      <td>0.984694</td>\n",
       "      <td>0.964103</td>\n",
       "      <td>0.943299</td>\n",
       "      <td>...</td>\n",
       "      <td>0.901042</td>\n",
       "      <td>0.879581</td>\n",
       "      <td>0.857895</td>\n",
       "      <td>0.835979</td>\n",
       "      <td>0.813830</td>\n",
       "      <td>0.791444</td>\n",
       "      <td>0.768817</td>\n",
       "      <td>0.745946</td>\n",
       "      <td>0.722826</td>\n",
       "      <td>0.820755</td>\n",
       "    </tr>\n",
       "    <tr>\n",
       "      <th>1</th>\n",
       "      <td>g0pB_taskc.txt</td>\n",
       "      <td>c</td>\n",
       "      <td>3</td>\n",
       "      <td>1</td>\n",
       "      <td>vector space model is an algebraic model for r...</td>\n",
       "      <td>test</td>\n",
       "      <td>0.765306</td>\n",
       "      <td>0.709898</td>\n",
       "      <td>0.664384</td>\n",
       "      <td>0.625430</td>\n",
       "      <td>...</td>\n",
       "      <td>0.553633</td>\n",
       "      <td>0.520833</td>\n",
       "      <td>0.487805</td>\n",
       "      <td>0.454545</td>\n",
       "      <td>0.424561</td>\n",
       "      <td>0.394366</td>\n",
       "      <td>0.378092</td>\n",
       "      <td>0.361702</td>\n",
       "      <td>0.348754</td>\n",
       "      <td>0.621711</td>\n",
       "    </tr>\n",
       "    <tr>\n",
       "      <th>2</th>\n",
       "      <td>g0pB_taske.txt</td>\n",
       "      <td>e</td>\n",
       "      <td>1</td>\n",
       "      <td>1</td>\n",
       "      <td>dynamic programming is a method for solving ma...</td>\n",
       "      <td>test</td>\n",
       "      <td>0.884444</td>\n",
       "      <td>0.526786</td>\n",
       "      <td>0.340807</td>\n",
       "      <td>0.247748</td>\n",
       "      <td>...</td>\n",
       "      <td>0.150000</td>\n",
       "      <td>0.118721</td>\n",
       "      <td>0.091743</td>\n",
       "      <td>0.064516</td>\n",
       "      <td>0.041667</td>\n",
       "      <td>0.023256</td>\n",
       "      <td>0.009346</td>\n",
       "      <td>0.004695</td>\n",
       "      <td>0.000000</td>\n",
       "      <td>0.597458</td>\n",
       "    </tr>\n",
       "    <tr>\n",
       "      <th>3</th>\n",
       "      <td>g0pC_taska.txt</td>\n",
       "      <td>a</td>\n",
       "      <td>1</td>\n",
       "      <td>1</td>\n",
       "      <td>inheritance in object oriented programming is ...</td>\n",
       "      <td>test</td>\n",
       "      <td>0.619048</td>\n",
       "      <td>0.250000</td>\n",
       "      <td>0.112299</td>\n",
       "      <td>0.075269</td>\n",
       "      <td>...</td>\n",
       "      <td>0.021739</td>\n",
       "      <td>0.010929</td>\n",
       "      <td>0.005495</td>\n",
       "      <td>0.000000</td>\n",
       "      <td>0.000000</td>\n",
       "      <td>0.000000</td>\n",
       "      <td>0.000000</td>\n",
       "      <td>0.000000</td>\n",
       "      <td>0.000000</td>\n",
       "      <td>0.427835</td>\n",
       "    </tr>\n",
       "    <tr>\n",
       "      <th>4</th>\n",
       "      <td>g0pD_taskb.txt</td>\n",
       "      <td>b</td>\n",
       "      <td>2</td>\n",
       "      <td>1</td>\n",
       "      <td>pagerank algorithm is patented by stanford uni...</td>\n",
       "      <td>test</td>\n",
       "      <td>0.920000</td>\n",
       "      <td>0.675676</td>\n",
       "      <td>0.561644</td>\n",
       "      <td>0.472222</td>\n",
       "      <td>...</td>\n",
       "      <td>0.328571</td>\n",
       "      <td>0.275362</td>\n",
       "      <td>0.220588</td>\n",
       "      <td>0.179104</td>\n",
       "      <td>0.151515</td>\n",
       "      <td>0.123077</td>\n",
       "      <td>0.093750</td>\n",
       "      <td>0.079365</td>\n",
       "      <td>0.064516</td>\n",
       "      <td>0.775000</td>\n",
       "    </tr>\n",
       "  </tbody>\n",
       "</table>\n",
       "<p>5 rows × 21 columns</p>\n",
       "</div>"
      ],
      "text/plain": [
       "             File Task  Category  Class  \\\n",
       "0  g0pA_taskb.txt    b         3      1   \n",
       "1  g0pB_taskc.txt    c         3      1   \n",
       "2  g0pB_taske.txt    e         1      1   \n",
       "3  g0pC_taska.txt    a         1      1   \n",
       "4  g0pD_taskb.txt    b         2      1   \n",
       "\n",
       "                                                Text Datatype       c_1  \\\n",
       "0  pagerank is a link analysis algorithm used by ...     test  1.000000   \n",
       "1  vector space model is an algebraic model for r...     test  0.765306   \n",
       "2  dynamic programming is a method for solving ma...     test  0.884444   \n",
       "3  inheritance in object oriented programming is ...     test  0.619048   \n",
       "4  pagerank algorithm is patented by stanford uni...     test  0.920000   \n",
       "\n",
       "        c_2       c_3       c_4  ...       c_6       c_7       c_8       c_9  \\\n",
       "0  0.984694  0.964103  0.943299  ...  0.901042  0.879581  0.857895  0.835979   \n",
       "1  0.709898  0.664384  0.625430  ...  0.553633  0.520833  0.487805  0.454545   \n",
       "2  0.526786  0.340807  0.247748  ...  0.150000  0.118721  0.091743  0.064516   \n",
       "3  0.250000  0.112299  0.075269  ...  0.021739  0.010929  0.005495  0.000000   \n",
       "4  0.675676  0.561644  0.472222  ...  0.328571  0.275362  0.220588  0.179104   \n",
       "\n",
       "       c_10      c_11      c_12      c_13      c_14  lcs_word  \n",
       "0  0.813830  0.791444  0.768817  0.745946  0.722826  0.820755  \n",
       "1  0.424561  0.394366  0.378092  0.361702  0.348754  0.621711  \n",
       "2  0.041667  0.023256  0.009346  0.004695  0.000000  0.597458  \n",
       "3  0.000000  0.000000  0.000000  0.000000  0.000000  0.427835  \n",
       "4  0.151515  0.123077  0.093750  0.079365  0.064516  0.775000  \n",
       "\n",
       "[5 rows x 21 columns]"
      ]
     },
     "execution_count": 49,
     "metadata": {},
     "output_type": "execute_result"
    }
   ],
   "source": [
    "testFull.head()"
   ]
  },
  {
   "cell_type": "code",
   "execution_count": 50,
   "metadata": {},
   "outputs": [
    {
     "name": "stdout",
     "output_type": "stream",
     "text": [
      "Item at index 11 gave wrong result. Actual=1.0; Expected=0\n",
      "bayes theorem is a mathematical formula used to calculate conditional probabilities given the probability of event a given event b bayes theorem can be used to calculate the probability of b given a  this is achieved using the conditional probability of b given a and the prior probabilities of both events a and b for example suppose there is a bag of coloured balls with 25 red ones and 75 black ones lucky joe likes to predict the colour of the ball he selects and he is 80 accurate joe records all of his results and about 0 5 of the time he accidently records the wrong results using all of this information more probabilities can be inferred including using bayes theorem to calculate various probabilities like joe recording correctly if he guesses correctly or joe recording incorrectly when his guess was correct and other like combinations  \n",
      "File                                           g1pD_taskd.txt\n",
      "Task                                                        d\n",
      "Category                                                    0\n",
      "Class                                                       0\n",
      "Text        bayes theorem is a mathematical formula used t...\n",
      "Datatype                                                 test\n",
      "c_1                                                  0.481481\n",
      "c_2                                                  0.171642\n",
      "c_3                                                 0.0676692\n",
      "c_4                                                 0.0378788\n",
      "c_5                                                 0.0229008\n",
      "c_6                                                0.00769231\n",
      "c_7                                                         0\n",
      "c_8                                                         0\n",
      "c_9                                                         0\n",
      "c_10                                                        0\n",
      "c_11                                                        0\n",
      "c_12                                                        0\n",
      "c_13                                                        0\n",
      "c_14                                                        0\n",
      "lcs_word                                             0.278912\n",
      "Name: 11, dtype: object\n",
      "\n",
      "Item at index 24 gave wrong result. Actual=1.0; Expected=0\n",
      " dynamic programming is a method for efficiently solving a broad range of search and optimization problems which exhibit the characteristics of overlappling  dynamic programming design technique like divide and conquer method  the leading and most up to date textbook on the far ranging algorithmic methododogy of dynamic programming which can be used for optimal control the word programming in the name has nothing to do with writing computer programs mathematicians use the word to describe a set of rules which anyone can follow to solve a problem they do not have to be written in a computer language  dynamic programming was the brainchild of an american mathematician richard bellman who described the way of solving problems where you need to find the best decisions one after another in the forty odd years since this development the number of uses and applications of dynamic programming has increased enormously  for example in 1982 david kohler used dynamic programming to analyse the best way to play the game of darts  1 in recent years dynamic programming languages develope very fastly especially php and ruby there is no doubt that they have already became the first choice for many programmerers when developing web applications when you learn a new natural language and you start to use it you naturally you find yourself using new concepts and paradigms that enrich the use of the language you already know expect the same result with computer languages  \n",
      "File                                           g4pE_taske.txt\n",
      "Task                                                        e\n",
      "Category                                                    0\n",
      "Class                                                       0\n",
      "Text         dynamic programming is a method for efficient...\n",
      "Datatype                                                 test\n",
      "c_1                                                  0.532189\n",
      "c_2                                                  0.163793\n",
      "c_3                                                 0.0779221\n",
      "c_4                                                 0.0391304\n",
      "c_5                                                 0.0174672\n",
      "c_6                                                 0.0131579\n",
      "c_7                                                0.00881057\n",
      "c_8                                                0.00442478\n",
      "c_9                                                         0\n",
      "c_10                                                        0\n",
      "c_11                                                        0\n",
      "c_12                                                        0\n",
      "c_13                                                        0\n",
      "c_14                                                        0\n",
      "lcs_word                                             0.245833\n",
      "Name: 24, dtype: object\n",
      "\n"
     ]
    }
   ],
   "source": [
    "for i in range(len(test_y)):\n",
    "    predicted = test_y_preds[i]\n",
    "    expected = test_y[i]\n",
    "    \n",
    "    if predicted != expected:\n",
    "        print('Item at index {} gave wrong result. Actual={}; Expected={}'.format(i, predicted, expected))\n",
    "        print(testFull.iloc[i].Text)\n",
    "        print(testFull.iloc[i])\n",
    "        print()"
   ]
  },
  {
   "cell_type": "code",
   "execution_count": 51,
   "metadata": {},
   "outputs": [
    {
     "name": "stdout",
     "output_type": "stream",
     "text": [
      "1.0 1.00 0.94 0.82\n",
      "1.0 0.77 0.63 0.62\n",
      "1.0 0.88 0.25 0.60\n",
      "1.0 0.62 0.08 0.43\n",
      "1.0 0.92 0.47 0.78\n",
      "1.0 0.99 0.98 0.99\n",
      "0.0 0.41 0.00 0.35\n",
      "0.0 0.46 0.01 0.19\n",
      "0.0 0.58 0.01 0.25\n",
      "0.0 0.58 0.00 0.29\n",
      "0.0 0.57 0.01 0.26\n",
      "1.0 0.62 0.05 0.34\n",
      "1.0 0.92 0.71 0.93\n",
      "1.0 1.00 0.94 1.00\n",
      "1.0 0.86 0.10 0.50\n",
      "1.0 0.63 0.29 0.56\n",
      "1.0 1.00 0.98 1.00\n",
      "0.0 0.38 0.02 0.18\n",
      "1.0 1.00 0.96 0.85\n",
      "0.0 0.61 0.00 0.30\n",
      "1.0 0.97 0.87 0.93\n",
      "1.0 0.96 0.74 0.91\n",
      "0.0 0.42 0.00 0.18\n"
     ]
    }
   ],
   "source": [
    "for i in range(len(test_y)):\n",
    "    predicted = test_y_preds[i]\n",
    "    expected = test_y[i]\n",
    "    \n",
    "    if predicted == expected:\n",
    "        print('{0} {1:.2f} {2:.2f} {3:.2f}'.format(predicted, testFull.iloc[i].c_1, testFull.iloc[i].c_4, testFull.iloc[i].lcs_word))"
   ]
  },
  {
   "cell_type": "markdown",
   "metadata": {},
   "source": [
    "### Question 1: How many false positives and false negatives did your model produce, if any? And why do you think this is?"
   ]
  },
  {
   "cell_type": "markdown",
   "metadata": {},
   "source": [
    "There were not false negatives. There were two false positives. It is likely due to the fact that the feature for n-gram4 is highter (likely due to the fact that there were some 4-grams present in the document).\n",
    "\n",
    "Also the data is imbalanced. \"Class 1\" has more data points, hence the model might have learned to give more for that class. \n"
   ]
  },
  {
   "cell_type": "markdown",
   "metadata": {},
   "source": [
    "### Question 2: How did you decide on the type of model to use? "
   ]
  },
  {
   "cell_type": "markdown",
   "metadata": {},
   "source": [
    "From visualization it was very clear that the problem can be solved with some kind of linear model since the data looked linearly separable. Went with a proven model of XGBoost. I guess, LinearClassifier, SVM etc also would have performed well in this case, I think.\n",
    "\n"
   ]
  },
  {
   "cell_type": "markdown",
   "metadata": {},
   "source": [
    "----\n",
    "## EXERCISE: Clean up Resources\n",
    "\n",
    "After you're done evaluating your model, **delete your model endpoint**. You can do this with a call to `.delete_endpoint()`. You need to show, in this notebook, that the endpoint was deleted. Any other resources, you may delete from the AWS console, and you will find more instructions on cleaning up all your resources, below."
   ]
  },
  {
   "cell_type": "code",
   "execution_count": 52,
   "metadata": {},
   "outputs": [],
   "source": [
    "# uncomment and fill in the line below!\n",
    "predictor.delete_endpoint()\n"
   ]
  },
  {
   "cell_type": "markdown",
   "metadata": {},
   "source": [
    "### Deleting S3 bucket\n",
    "\n",
    "When you are *completely* done with training and testing models, you can also delete your entire S3 bucket. If you do this before you are done training your model, you'll have to recreate your S3 bucket and upload your training data again."
   ]
  },
  {
   "cell_type": "code",
   "execution_count": 53,
   "metadata": {},
   "outputs": [
    {
     "data": {
      "text/plain": [
       "[{'ResponseMetadata': {'RequestId': '5236E00BE154C1BF',\n",
       "   'HostId': 'l4WqbGU/9kUUufwVhFur5b4rIWQZYJQp4QrBpx9J40K+gRnQdyeFsXc6vPRvZPzgNcfR6/egkMU=',\n",
       "   'HTTPStatusCode': 200,\n",
       "   'HTTPHeaders': {'x-amz-id-2': 'l4WqbGU/9kUUufwVhFur5b4rIWQZYJQp4QrBpx9J40K+gRnQdyeFsXc6vPRvZPzgNcfR6/egkMU=',\n",
       "    'x-amz-request-id': '5236E00BE154C1BF',\n",
       "    'date': 'Sun, 16 Aug 2020 09:50:22 GMT',\n",
       "    'connection': 'close',\n",
       "    'content-type': 'application/xml',\n",
       "    'transfer-encoding': 'chunked',\n",
       "    'server': 'AmazonS3'},\n",
       "   'RetryAttempts': 0},\n",
       "  'Deleted': [{'Key': 'sagemaker-record-sets/LinearLearner-2020-08-13-11-01-46-120/.amazon.manifest'},\n",
       "   {'Key': 'plagiarism/data/test.csv'},\n",
       "   {'Key': 'plagiarism/data/test_without_label.csv'},\n",
       "   {'Key': 'sagemaker-record-sets/LinearLearner-2020-08-13-11-22-40-815/matrix_0.pbr'},\n",
       "   {'Key': 'linear-learner-2020-08-13-13-32-44-555/output/model.tar.gz'},\n",
       "   {'Key': 'xgboost-2020-08-16-06-15-42-904/test_without_label.csv.out'},\n",
       "   {'Key': 'mlndplagiarism/output/xgboost-2020-08-16-04-16-27-166/output/model.tar.gz'},\n",
       "   {'Key': 'mlndplagiarism/output/xgboost-2020-08-16-05-07-38-148/output/model.tar.gz'},\n",
       "   {'Key': 'mlndplagiarism/output/xgboost-2020-08-16-09-23-48-530/output/model.tar.gz'},\n",
       "   {'Key': 'plagiarism/data//train.csv'},\n",
       "   {'Key': 'mlndplagiarism/output/xgboost-2020-08-16-08-57-29-905/output/model.tar.gz'},\n",
       "   {'Key': 'sagemaker-record-sets/LinearLearner-2020-08-13-11-01-46-120/matrix_0.pbr'},\n",
       "   {'Key': 'sagemaker-record-sets/LinearLearner-2020-08-13-13-27-56-006/matrix_0.pbr'},\n",
       "   {'Key': 'sagemaker-record-sets/LinearLearner-2020-08-13-13-32-38-623/matrix_0.pbr'},\n",
       "   {'Key': 'mlndplagiarism/output/xgboost-2020-08-16-08-58-34-038/output/model.tar.gz'},\n",
       "   {'Key': 'moon-data/sagemaker-pytorch-2020-08-13-16-02-43-097/output/model.tar.gz'},\n",
       "   {'Key': 'sagemaker-pytorch-2020-08-13-16-06-25-528/sourcedir.tar.gz'},\n",
       "   {'Key': 'sagemaker-record-sets/LinearLearner-2020-08-13-11-15-39-738/.amazon.manifest'},\n",
       "   {'Key': 'sagemaker-record-sets/LinearLearner-2020-08-13-11-15-39-738/matrix_0.pbr'},\n",
       "   {'Key': 'sagemaker-record-sets/LinearLearner-2020-08-13-11-22-40-815/.amazon.manifest'},\n",
       "   {'Key': 'xgboost-2020-08-16-09-36-47-949/test_without_label.csv.out'},\n",
       "   {'Key': 'sagemaker-pytorch-2020-08-13-16-02-43-097/source/sourcedir.tar.gz'},\n",
       "   {'Key': 'plagiarism/data//test.csv'},\n",
       "   {'Key': 'sagemaker-record-sets/LinearLearner-2020-08-13-13-27-56-006/.amazon.manifest'},\n",
       "   {'Key': 'sagemaker-record-sets/LinearLearner-2020-08-13-13-32-38-623/.amazon.manifest'},\n",
       "   {'Key': 'plagiarism/data/train.csv'},\n",
       "   {'Key': 'moon-data/sagemaker-pytorch-2020-08-13-16-02-43-097/debug-output/training_job_end.ts'},\n",
       "   {'Key': 'xgboost-2020-08-16-09-09-18-406/test_without_label.csv.out'},\n",
       "   {'Key': 'moon-data/train.csv'}]}]"
      ]
     },
     "execution_count": 53,
     "metadata": {},
     "output_type": "execute_result"
    }
   ],
   "source": [
    "# deleting bucket, uncomment lines below\n",
    "\n",
    "bucket_to_delete = boto3.resource('s3').Bucket(bucket)\n",
    "bucket_to_delete.objects.all().delete()"
   ]
  },
  {
   "cell_type": "markdown",
   "metadata": {},
   "source": [
    "### Deleting all your models and instances\n",
    "\n",
    "When you are _completely_ done with this project and do **not** ever want to revisit this notebook, you can choose to delete all of your SageMaker notebook instances and models by following [these instructions](https://docs.aws.amazon.com/sagemaker/latest/dg/ex1-cleanup.html). Before you delete this notebook instance, I recommend at least downloading a copy and saving it, locally."
   ]
  },
  {
   "cell_type": "markdown",
   "metadata": {},
   "source": [
    "---\n",
    "## Further Directions\n",
    "\n",
    "There are many ways to improve or add on to this project to expand your learning or make this more of a unique project for you. A few ideas are listed below:\n",
    "* Train a classifier to predict the *category* (1-3) of plagiarism and not just plagiarized (1) or not (0).\n",
    "* Utilize a different and larger dataset to see if this model can be extended to other types of plagiarism.\n",
    "* Use language or character-level analysis to find different (and more) similarity features.\n",
    "* Write a complete pipeline function that accepts a source text and submitted text file, and classifies the submitted text as plagiarized or not.\n",
    "* Use API Gateway and a lambda function to deploy your model to a web application.\n",
    "\n",
    "These are all just options for extending your work. If you've completed all the exercises in this notebook, you've completed a real-world application, and can proceed to submit your project. Great job!"
   ]
  }
 ],
 "metadata": {
  "kernelspec": {
   "display_name": "conda_pytorch_p36",
   "language": "python",
   "name": "conda_pytorch_p36"
  },
  "language_info": {
   "codemirror_mode": {
    "name": "ipython",
    "version": 3
   },
   "file_extension": ".py",
   "mimetype": "text/x-python",
   "name": "python",
   "nbconvert_exporter": "python",
   "pygments_lexer": "ipython3",
   "version": "3.6.10"
  }
 },
 "nbformat": 4,
 "nbformat_minor": 2
}
